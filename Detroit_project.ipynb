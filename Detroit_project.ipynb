{
 "cells": [
  {
   "cell_type": "markdown",
   "id": "a154459c",
   "metadata": {},
   "source": [
    "<h1>Detroit Project</h1>\n",
    "<h2>Importing Data:</h2>"
   ]
  },
  {
   "cell_type": "code",
   "execution_count": 1,
   "id": "5747bdeb",
   "metadata": {},
   "outputs": [
    {
     "name": "stderr",
     "output_type": "stream",
     "text": [
      "/Users/devk/opt/anaconda3/lib/python3.8/site-packages/IPython/core/interactiveshell.py:3165: DtypeWarning: Columns (12,17) have mixed types.Specify dtype option on import or set low_memory=False.\n",
      "  has_raised = await self.run_ast_nodes(code_ast.body, cell_name,\n"
     ]
    }
   ],
   "source": [
    "import pandas as pd\n",
    "import numpy as np\n",
    "import matplotlib.pyplot as plt\n",
    "\n",
    "df = pd.read_csv('Improve_Detroit_Issues.csv')\n",
    "df.drop_duplicates(subset = \"id\")\n",
    "df.dropna(subset = [\"neighborhood\", \"council_district\"], inplace=True)\n"
   ]
  },
  {
   "cell_type": "code",
   "execution_count": 2,
   "id": "279a2359",
   "metadata": {
    "scrolled": false
   },
   "outputs": [
    {
     "data": {
      "text/html": [
       "<div>\n",
       "<style scoped>\n",
       "    .dataframe tbody tr th:only-of-type {\n",
       "        vertical-align: middle;\n",
       "    }\n",
       "\n",
       "    .dataframe tbody tr th {\n",
       "        vertical-align: top;\n",
       "    }\n",
       "\n",
       "    .dataframe thead th {\n",
       "        text-align: right;\n",
       "    }\n",
       "</style>\n",
       "<table border=\"1\" class=\"dataframe\">\n",
       "  <thead>\n",
       "    <tr style=\"text-align: right;\">\n",
       "      <th></th>\n",
       "      <th>X</th>\n",
       "      <th>Y</th>\n",
       "      <th>id</th>\n",
       "      <th>status</th>\n",
       "      <th>request_type_title</th>\n",
       "      <th>description</th>\n",
       "      <th>web_url</th>\n",
       "      <th>report_method</th>\n",
       "      <th>priority_code</th>\n",
       "      <th>created_at</th>\n",
       "      <th>acknowledged_at</th>\n",
       "      <th>closed_at</th>\n",
       "      <th>reopened_at</th>\n",
       "      <th>updated_at</th>\n",
       "      <th>days_to_close</th>\n",
       "      <th>canonical_issue_id</th>\n",
       "      <th>address</th>\n",
       "      <th>neighborhood</th>\n",
       "      <th>council_district</th>\n",
       "      <th>oid</th>\n",
       "    </tr>\n",
       "  </thead>\n",
       "  <tbody>\n",
       "    <tr>\n",
       "      <th>363388</th>\n",
       "      <td>-83.238070</td>\n",
       "      <td>42.431850</td>\n",
       "      <td>5932261</td>\n",
       "      <td>Open</td>\n",
       "      <td>Illegal Dump Sites</td>\n",
       "      <td>TREE DUMPED ON BERM OF VACANT LOT</td>\n",
       "      <td>https://seeclickfix.com/issues/5932261</td>\n",
       "      <td>phone</td>\n",
       "      <td>2</td>\n",
       "      <td>2019/05/29 19:23:57+00</td>\n",
       "      <td>NaN</td>\n",
       "      <td>NaN</td>\n",
       "      <td>NaN</td>\n",
       "      <td>2019/05/29 19:23:57+00</td>\n",
       "      <td>NaN</td>\n",
       "      <td>NaN</td>\n",
       "      <td>19319 Plainview Ave Detroit, MI, 48219, USA</td>\n",
       "      <td>O'Hair Park</td>\n",
       "      <td>1.0</td>\n",
       "      <td>363389</td>\n",
       "    </tr>\n",
       "    <tr>\n",
       "      <th>363389</th>\n",
       "      <td>-83.238052</td>\n",
       "      <td>42.431499</td>\n",
       "      <td>5932259</td>\n",
       "      <td>Open</td>\n",
       "      <td>Illegal Dump Sites</td>\n",
       "      <td>BAGS DUMPED ON CURB OF VACANT LOT</td>\n",
       "      <td>https://seeclickfix.com/issues/5932259</td>\n",
       "      <td>phone</td>\n",
       "      <td>2</td>\n",
       "      <td>2019/05/29 19:23:16+00</td>\n",
       "      <td>NaN</td>\n",
       "      <td>NaN</td>\n",
       "      <td>NaN</td>\n",
       "      <td>2019/05/29 19:23:16+00</td>\n",
       "      <td>NaN</td>\n",
       "      <td>NaN</td>\n",
       "      <td>19303 Plainview Ave Detroit, MI, 48219, USA</td>\n",
       "      <td>O'Hair Park</td>\n",
       "      <td>1.0</td>\n",
       "      <td>363390</td>\n",
       "    </tr>\n",
       "    <tr>\n",
       "      <th>363392</th>\n",
       "      <td>-82.940814</td>\n",
       "      <td>42.420735</td>\n",
       "      <td>5932244</td>\n",
       "      <td>Open</td>\n",
       "      <td>DPW - Other environmental - DPW USE ONLY</td>\n",
       "      <td>ALLEY COMPLAINT</td>\n",
       "      <td>https://seeclickfix.com/issues/5932244</td>\n",
       "      <td>phone</td>\n",
       "      <td>2</td>\n",
       "      <td>2019/05/29 19:20:51+00</td>\n",
       "      <td>NaN</td>\n",
       "      <td>NaN</td>\n",
       "      <td>NaN</td>\n",
       "      <td>2019/05/29 19:20:51+00</td>\n",
       "      <td>NaN</td>\n",
       "      <td>NaN</td>\n",
       "      <td>10448 Merlin St Detroit, MI, 48224, USA</td>\n",
       "      <td>Yorkshire Woods</td>\n",
       "      <td>4.0</td>\n",
       "      <td>363393</td>\n",
       "    </tr>\n",
       "    <tr>\n",
       "      <th>363393</th>\n",
       "      <td>-83.164932</td>\n",
       "      <td>42.383934</td>\n",
       "      <td>5932239</td>\n",
       "      <td>Open</td>\n",
       "      <td>Rodent Extermination - BSEED Only</td>\n",
       "      <td>NaN</td>\n",
       "      <td>https://seeclickfix.com/issues/5932239</td>\n",
       "      <td>phone</td>\n",
       "      <td>2</td>\n",
       "      <td>2019/05/29 19:20:03+00</td>\n",
       "      <td>NaN</td>\n",
       "      <td>NaN</td>\n",
       "      <td>NaN</td>\n",
       "      <td>2019/05/29 19:20:03+00</td>\n",
       "      <td>NaN</td>\n",
       "      <td>NaN</td>\n",
       "      <td>13126 Pinehurst St Detroit, MI, 48238, USA</td>\n",
       "      <td>Grand River-I96</td>\n",
       "      <td>7.0</td>\n",
       "      <td>363394</td>\n",
       "    </tr>\n",
       "    <tr>\n",
       "      <th>363396</th>\n",
       "      <td>-83.164392</td>\n",
       "      <td>42.360804</td>\n",
       "      <td>5932218</td>\n",
       "      <td>Open</td>\n",
       "      <td>Alley Grading - DPW Use Only</td>\n",
       "      <td>potholes in alley; resident asking for gravel</td>\n",
       "      <td>https://seeclickfix.com/issues/5932218</td>\n",
       "      <td>direct</td>\n",
       "      <td>2</td>\n",
       "      <td>2019/05/29 19:17:33+00</td>\n",
       "      <td>NaN</td>\n",
       "      <td>NaN</td>\n",
       "      <td>NaN</td>\n",
       "      <td>2019/05/29 19:29:43+00</td>\n",
       "      <td>NaN</td>\n",
       "      <td>NaN</td>\n",
       "      <td>8939 Mendota St Detroit, MI, 48204, USA</td>\n",
       "      <td>Barton-McFarland</td>\n",
       "      <td>7.0</td>\n",
       "      <td>363397</td>\n",
       "    </tr>\n",
       "  </tbody>\n",
       "</table>\n",
       "</div>"
      ],
      "text/plain": [
       "                X          Y       id status  \\\n",
       "363388 -83.238070  42.431850  5932261   Open   \n",
       "363389 -83.238052  42.431499  5932259   Open   \n",
       "363392 -82.940814  42.420735  5932244   Open   \n",
       "363393 -83.164932  42.383934  5932239   Open   \n",
       "363396 -83.164392  42.360804  5932218   Open   \n",
       "\n",
       "                              request_type_title  \\\n",
       "363388                        Illegal Dump Sites   \n",
       "363389                        Illegal Dump Sites   \n",
       "363392  DPW - Other environmental - DPW USE ONLY   \n",
       "363393         Rodent Extermination - BSEED Only   \n",
       "363396              Alley Grading - DPW Use Only   \n",
       "\n",
       "                                          description  \\\n",
       "363388              TREE DUMPED ON BERM OF VACANT LOT   \n",
       "363389              BAGS DUMPED ON CURB OF VACANT LOT   \n",
       "363392                                ALLEY COMPLAINT   \n",
       "363393                                            NaN   \n",
       "363396  potholes in alley; resident asking for gravel   \n",
       "\n",
       "                                       web_url report_method  priority_code  \\\n",
       "363388  https://seeclickfix.com/issues/5932261         phone              2   \n",
       "363389  https://seeclickfix.com/issues/5932259         phone              2   \n",
       "363392  https://seeclickfix.com/issues/5932244         phone              2   \n",
       "363393  https://seeclickfix.com/issues/5932239         phone              2   \n",
       "363396  https://seeclickfix.com/issues/5932218        direct              2   \n",
       "\n",
       "                    created_at acknowledged_at closed_at reopened_at  \\\n",
       "363388  2019/05/29 19:23:57+00             NaN       NaN         NaN   \n",
       "363389  2019/05/29 19:23:16+00             NaN       NaN         NaN   \n",
       "363392  2019/05/29 19:20:51+00             NaN       NaN         NaN   \n",
       "363393  2019/05/29 19:20:03+00             NaN       NaN         NaN   \n",
       "363396  2019/05/29 19:17:33+00             NaN       NaN         NaN   \n",
       "\n",
       "                    updated_at  days_to_close  canonical_issue_id  \\\n",
       "363388  2019/05/29 19:23:57+00            NaN                 NaN   \n",
       "363389  2019/05/29 19:23:16+00            NaN                 NaN   \n",
       "363392  2019/05/29 19:20:51+00            NaN                 NaN   \n",
       "363393  2019/05/29 19:20:03+00            NaN                 NaN   \n",
       "363396  2019/05/29 19:29:43+00            NaN                 NaN   \n",
       "\n",
       "                                            address      neighborhood  \\\n",
       "363388  19319 Plainview Ave Detroit, MI, 48219, USA       O'Hair Park   \n",
       "363389  19303 Plainview Ave Detroit, MI, 48219, USA       O'Hair Park   \n",
       "363392      10448 Merlin St Detroit, MI, 48224, USA   Yorkshire Woods   \n",
       "363393   13126 Pinehurst St Detroit, MI, 48238, USA   Grand River-I96   \n",
       "363396      8939 Mendota St Detroit, MI, 48204, USA  Barton-McFarland   \n",
       "\n",
       "        council_district     oid  \n",
       "363388               1.0  363389  \n",
       "363389               1.0  363390  \n",
       "363392               4.0  363393  \n",
       "363393               7.0  363394  \n",
       "363396               7.0  363397  "
      ]
     },
     "execution_count": 2,
     "metadata": {},
     "output_type": "execute_result"
    }
   ],
   "source": [
    "df.head()"
   ]
  },
  {
   "cell_type": "code",
   "execution_count": 3,
   "id": "cc7a6dd3",
   "metadata": {},
   "outputs": [
    {
     "data": {
      "text/plain": [
       "Index(['X', 'Y', 'id', 'status', 'request_type_title', 'description',\n",
       "       'web_url', 'report_method', 'priority_code', 'created_at',\n",
       "       'acknowledged_at', 'closed_at', 'reopened_at', 'updated_at',\n",
       "       'days_to_close', 'canonical_issue_id', 'address', 'neighborhood',\n",
       "       'council_district', 'oid'],\n",
       "      dtype='object')"
      ]
     },
     "execution_count": 3,
     "metadata": {},
     "output_type": "execute_result"
    }
   ],
   "source": [
    "df.columns"
   ]
  },
  {
   "cell_type": "code",
   "execution_count": 9,
   "id": "2c9161d9",
   "metadata": {},
   "outputs": [
    {
     "name": "stdout",
     "output_type": "stream",
     "text": [
      "185897\n"
     ]
    }
   ],
   "source": [
    "index = df.index\n",
    "number_of_rows = len(index)\n",
    "print(number_of_rows)\n"
   ]
  },
  {
   "cell_type": "markdown",
   "id": "c5831ac9",
   "metadata": {},
   "source": [
    "<h2>Renaming the columns:</h2>"
   ]
  },
  {
   "cell_type": "code",
   "execution_count": 4,
   "id": "0727b1d9",
   "metadata": {},
   "outputs": [],
   "source": [
    "df.rename({\n",
    "    'X':'Longitude',\n",
    "    'Y':'Latitude',\n",
    "    'id':'ID',\n",
    "    'status':'Status',\n",
    "    'request_type_title':'Request_Type',\n",
    "    'description':'Description',\n",
    "    'web_url':'URL',\n",
    "    'report_method':'Report_Method',\n",
    "    'priority_code':'Priority_Code',\n",
    "    'created_at':'Creation_Date',\n",
    "    'acknowledged_at':'Acknowledgement_Date',\n",
    "    'closed_at':'Close_Date',\n",
    "    'reopened_at':'Reopening_Date',\n",
    "    'updated_at':'Update_Date',\n",
    "    'days_to_close':'Days_To_Close',\n",
    "    'canonical_issue_id':'Canonical_Issue_Id',\n",
    "    'address':'Address',\n",
    "    'neighborhood':'Neighborhood',\n",
    "    'council_district':'Council_District',\n",
    "    'oid':'Oid'\n",
    "    },\n",
    "    axis=1,inplace=True)"
   ]
  },
  {
   "cell_type": "code",
   "execution_count": 5,
   "id": "b4f09027",
   "metadata": {},
   "outputs": [
    {
     "data": {
      "text/plain": [
       "Index(['Longitude', 'Latitude', 'ID', 'Status', 'Request_Type', 'Description',\n",
       "       'URL', 'Report_Method', 'Priority_Code', 'Creation_Date',\n",
       "       'Acknowledgement_Date', 'Close_Date', 'Reopening_Date', 'Update_Date',\n",
       "       'Days_To_Close', 'Canonical_Issue_Id', 'Address', 'Neighborhood',\n",
       "       'Council_District', 'Oid'],\n",
       "      dtype='object')"
      ]
     },
     "execution_count": 5,
     "metadata": {},
     "output_type": "execute_result"
    }
   ],
   "source": [
    "df.columns"
   ]
  },
  {
   "cell_type": "markdown",
   "id": "0ab40849",
   "metadata": {},
   "source": [
    "# Show the quantity of issues present."
   ]
  },
  {
   "cell_type": "code",
   "execution_count": 6,
   "id": "1f30fff3",
   "metadata": {},
   "outputs": [
    {
     "data": {
      "text/plain": [
       "DPW - Debris Removal - DPW USE ONLY              29179\n",
       "Illegal Dump Sites                               24179\n",
       "DPW - Other environmental - DPW USE ONLY         22930\n",
       "Curbside Solid Waste Issue                       19042\n",
       "Potholes                                         12769\n",
       "Tree Issue                                       12032\n",
       "Abandoned Vehicle                                11632\n",
       "Blocked Catch Basin                              10527\n",
       "Rodent Extermination - BSEED Only                 8549\n",
       "Traffic Sign Issue                                6758\n",
       "Running Water in a Home or Building               5915\n",
       "Water Main Break                                  4234\n",
       "Fire Hydrant Issue                                2630\n",
       "Traffic Signal Issue                              2494\n",
       "Dead Animal Removal                               2417\n",
       "Manhole Cover Issue                               2116\n",
       "Street Light Out                                  1898\n",
       "Residential Snow Removal Issue                    1437\n",
       "Other - Referred to other City Department         1194\n",
       "Squatters Issue                                    833\n",
       "Other - Not within City jurisdiction               734\n",
       "Street Light Pole Down                             719\n",
       "Park Issue                                         625\n",
       "Traffic Complaints                                 303\n",
       "Street Light / Street Light Pole Major Repair      213\n",
       "Investigate Blocked Basin Street                    86\n",
       "Investigate Service Leak                            74\n",
       "Investigate Cave In (Sink Hole)                     69\n",
       "Investigate Water Main Break                        56\n",
       "Alley Grading - DPW Use Only                        49\n",
       "Other - Not within scope of City services           49\n",
       "Vacant Service Leak                                 24\n",
       "Investigate Blocked Basin Alley                     21\n",
       "Investigate Manhole Cover                           20\n",
       "Illegal Dumping In Progress                         16\n",
       "Cave-In over the Sewer                              15\n",
       "Investigate Fire Hydrant Related Issues             15\n",
       "Investigate Missing Catch Basin Cover               15\n",
       "Cemetery Issue                                      12\n",
       "Investigate Restoration                             11\n",
       "Marina Issue                                         3\n",
       "Squatters - Fraud Investigation                      2\n",
       "Clogged Drain                                        1\n",
       "Name: Request_Type, dtype: int64"
      ]
     },
     "execution_count": 6,
     "metadata": {},
     "output_type": "execute_result"
    }
   ],
   "source": [
    "df['Request_Type'].value_counts()"
   ]
  },
  {
   "cell_type": "code",
   "execution_count": 10,
   "id": "13205abd",
   "metadata": {},
   "outputs": [
    {
     "data": {
      "text/plain": [
       "7.0    38307\n",
       "1.0    27260\n",
       "4.0    25780\n",
       "6.0    25214\n",
       "5.0    24576\n",
       "2.0    23205\n",
       "3.0    21555\n",
       "Name: Council_District, dtype: int64"
      ]
     },
     "execution_count": 10,
     "metadata": {},
     "output_type": "execute_result"
    }
   ],
   "source": [
    "df['Council_District'].value_counts()"
   ]
  },
  {
   "cell_type": "code",
   "execution_count": null,
   "id": "b50c0dd1",
   "metadata": {},
   "outputs": [],
   "source": []
  },
  {
   "cell_type": "code",
   "execution_count": null,
   "id": "b0840d91",
   "metadata": {},
   "outputs": [],
   "source": []
  }
 ],
 "metadata": {
  "kernelspec": {
   "display_name": "Python 3",
   "language": "python",
   "name": "python3"
  },
  "language_info": {
   "codemirror_mode": {
    "name": "ipython",
    "version": 3
   },
   "file_extension": ".py",
   "mimetype": "text/x-python",
   "name": "python",
   "nbconvert_exporter": "python",
   "pygments_lexer": "ipython3",
   "version": "3.8.8"
  }
 },
 "nbformat": 4,
 "nbformat_minor": 5
}
